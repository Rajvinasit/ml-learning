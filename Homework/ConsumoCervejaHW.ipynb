{
 "cells": [
  {
   "cell_type": "markdown",
   "metadata": {},
   "source": [
    "Perform preprocessing and EDA as per requirements. [ Attached is the dataset \"Consumo_cerveja.csv\" ]\n",
    "- You have to predict the beer consumption for the column \"Consumo de cerveja (litros)\"\n",
    "- Train the model using the neural network architecture.\n",
    "- Evaluate the model using the metrics."
   ]
  },
  {
   "cell_type": "code",
   "execution_count": 2,
   "metadata": {},
   "outputs": [],
   "source": [
    "import pandas as pd\n",
    "import numpy as np\n",
    "import matplotlib.pyplot as plt\n",
    "import seaborn as sns\n",
    "from sklearn.preprocessing import MinMaxScaler\n",
    "from sklearn.model_selection import train_test_split\n",
    "import tensorflow as tf\n",
    "from tensorflow import keras\n",
    "from sklearn.metrics import mean_squared_error\n",
    "import warnings\n",
    "warnings.filterwarnings('ignore')"
   ]
  },
  {
   "cell_type": "code",
   "execution_count": 3,
   "metadata": {},
   "outputs": [],
   "source": [
    "df= pd.read_csv('Consumo_cerveja.csv')"
   ]
  },
  {
   "cell_type": "code",
   "execution_count": 4,
   "metadata": {},
   "outputs": [
    {
     "data": {
      "text/html": [
       "<div>\n",
       "<style scoped>\n",
       "    .dataframe tbody tr th:only-of-type {\n",
       "        vertical-align: middle;\n",
       "    }\n",
       "\n",
       "    .dataframe tbody tr th {\n",
       "        vertical-align: top;\n",
       "    }\n",
       "\n",
       "    .dataframe thead th {\n",
       "        text-align: right;\n",
       "    }\n",
       "</style>\n",
       "<table border=\"1\" class=\"dataframe\">\n",
       "  <thead>\n",
       "    <tr style=\"text-align: right;\">\n",
       "      <th></th>\n",
       "      <th>Data</th>\n",
       "      <th>Temperatura Media (C)</th>\n",
       "      <th>Temperatura Minima (C)</th>\n",
       "      <th>Temperatura Maxima (C)</th>\n",
       "      <th>Precipitacao (mm)</th>\n",
       "      <th>Final de Semana</th>\n",
       "      <th>Consumo de cerveja (litros)</th>\n",
       "    </tr>\n",
       "  </thead>\n",
       "  <tbody>\n",
       "    <tr>\n",
       "      <th>0</th>\n",
       "      <td>2015-01-01</td>\n",
       "      <td>27,3</td>\n",
       "      <td>23,9</td>\n",
       "      <td>32,5</td>\n",
       "      <td>0</td>\n",
       "      <td>0.0</td>\n",
       "      <td>25.461</td>\n",
       "    </tr>\n",
       "    <tr>\n",
       "      <th>1</th>\n",
       "      <td>2015-01-02</td>\n",
       "      <td>27,02</td>\n",
       "      <td>24,5</td>\n",
       "      <td>33,5</td>\n",
       "      <td>0</td>\n",
       "      <td>0.0</td>\n",
       "      <td>28.972</td>\n",
       "    </tr>\n",
       "    <tr>\n",
       "      <th>2</th>\n",
       "      <td>2015-01-03</td>\n",
       "      <td>24,82</td>\n",
       "      <td>22,4</td>\n",
       "      <td>29,9</td>\n",
       "      <td>0</td>\n",
       "      <td>1.0</td>\n",
       "      <td>30.814</td>\n",
       "    </tr>\n",
       "    <tr>\n",
       "      <th>3</th>\n",
       "      <td>2015-01-04</td>\n",
       "      <td>23,98</td>\n",
       "      <td>21,5</td>\n",
       "      <td>28,6</td>\n",
       "      <td>1,2</td>\n",
       "      <td>1.0</td>\n",
       "      <td>29.799</td>\n",
       "    </tr>\n",
       "    <tr>\n",
       "      <th>4</th>\n",
       "      <td>2015-01-05</td>\n",
       "      <td>23,82</td>\n",
       "      <td>21</td>\n",
       "      <td>28,3</td>\n",
       "      <td>0</td>\n",
       "      <td>0.0</td>\n",
       "      <td>28.900</td>\n",
       "    </tr>\n",
       "  </tbody>\n",
       "</table>\n",
       "</div>"
      ],
      "text/plain": [
       "         Data Temperatura Media (C) Temperatura Minima (C)  \\\n",
       "0  2015-01-01                  27,3                   23,9   \n",
       "1  2015-01-02                 27,02                   24,5   \n",
       "2  2015-01-03                 24,82                   22,4   \n",
       "3  2015-01-04                 23,98                   21,5   \n",
       "4  2015-01-05                 23,82                     21   \n",
       "\n",
       "  Temperatura Maxima (C) Precipitacao (mm)  Final de Semana  \\\n",
       "0                   32,5                 0              0.0   \n",
       "1                   33,5                 0              0.0   \n",
       "2                   29,9                 0              1.0   \n",
       "3                   28,6               1,2              1.0   \n",
       "4                   28,3                 0              0.0   \n",
       "\n",
       "   Consumo de cerveja (litros)  \n",
       "0                       25.461  \n",
       "1                       28.972  \n",
       "2                       30.814  \n",
       "3                       29.799  \n",
       "4                       28.900  "
      ]
     },
     "execution_count": 4,
     "metadata": {},
     "output_type": "execute_result"
    }
   ],
   "source": [
    "df.head()"
   ]
  },
  {
   "cell_type": "code",
   "execution_count": 5,
   "metadata": {},
   "outputs": [
    {
     "data": {
      "text/plain": [
       "Data                           576\n",
       "Temperatura Media (C)          576\n",
       "Temperatura Minima (C)         576\n",
       "Temperatura Maxima (C)         576\n",
       "Precipitacao (mm)              576\n",
       "Final de Semana                576\n",
       "Consumo de cerveja (litros)    576\n",
       "dtype: int64"
      ]
     },
     "execution_count": 5,
     "metadata": {},
     "output_type": "execute_result"
    }
   ],
   "source": [
    "df.isnull().sum()"
   ]
  },
  {
   "cell_type": "code",
   "execution_count": 13,
   "metadata": {},
   "outputs": [],
   "source": [
    "df.dropna(inplace=True)"
   ]
  },
  {
   "cell_type": "code",
   "execution_count": 16,
   "metadata": {},
   "outputs": [
    {
     "data": {
      "text/plain": [
       "Data                           0\n",
       "Temperatura Media (C)          0\n",
       "Temperatura Minima (C)         0\n",
       "Temperatura Maxima (C)         0\n",
       "Precipitacao (mm)              0\n",
       "Final de Semana                0\n",
       "Consumo de cerveja (litros)    0\n",
       "Day                            0\n",
       "dtype: int64"
      ]
     },
     "execution_count": 16,
     "metadata": {},
     "output_type": "execute_result"
    }
   ],
   "source": [
    "df.isnull().sum()"
   ]
  },
  {
   "cell_type": "code",
   "execution_count": 14,
   "metadata": {},
   "outputs": [
    {
     "data": {
      "text/plain": [
       "Consumo de cerveja (litros)\n",
       "24.862    3\n",
       "25.343    2\n",
       "24.227    2\n",
       "22.933    2\n",
       "26.594    2\n",
       "         ..\n",
       "20.452    1\n",
       "19.761    1\n",
       "20.812    1\n",
       "21.838    1\n",
       "22.446    1\n",
       "Name: count, Length: 359, dtype: int64"
      ]
     },
     "execution_count": 14,
     "metadata": {},
     "output_type": "execute_result"
    }
   ],
   "source": [
    "df['Consumo de cerveja (litros)'].value_counts()"
   ]
  },
  {
   "cell_type": "code",
   "execution_count": 15,
   "metadata": {},
   "outputs": [
    {
     "name": "stdout",
     "output_type": "stream",
     "text": [
      "<class 'pandas.core.frame.DataFrame'>\n",
      "Index: 365 entries, 0 to 364\n",
      "Data columns (total 8 columns):\n",
      " #   Column                       Non-Null Count  Dtype         \n",
      "---  ------                       --------------  -----         \n",
      " 0   Data                         365 non-null    datetime64[ns]\n",
      " 1   Temperatura Media (C)        365 non-null    object        \n",
      " 2   Temperatura Minima (C)       365 non-null    object        \n",
      " 3   Temperatura Maxima (C)       365 non-null    object        \n",
      " 4   Precipitacao (mm)            365 non-null    object        \n",
      " 5   Final de Semana              365 non-null    float64       \n",
      " 6   Consumo de cerveja (litros)  365 non-null    float64       \n",
      " 7   Day                          365 non-null    object        \n",
      "dtypes: datetime64[ns](1), float64(2), object(5)\n",
      "memory usage: 25.7+ KB\n"
     ]
    }
   ],
   "source": [
    "df.info()\n",
    "# Assuming df['Data'] contains date strings, first convert them to datetime\n",
    "df['Data'] = pd.to_datetime(df['Data'], errors='coerce')\n",
    "\n",
    "# List of days for easy mapping\n",
    "days = ['Monday', 'Tuesday', 'Wednesday', 'Thursday', 'Friday', 'Saturday', 'Sunday']"
   ]
  },
  {
   "cell_type": "code",
   "execution_count": 17,
   "metadata": {},
   "outputs": [
    {
     "name": "stdout",
     "output_type": "stream",
     "text": [
      "          Data Temperatura Media (C) Temperatura Minima (C)  \\\n",
      "0   2015-01-01                  27,3                   23,9   \n",
      "1   2015-01-02                 27,02                   24,5   \n",
      "2   2015-01-03                 24,82                   22,4   \n",
      "3   2015-01-04                 23,98                   21,5   \n",
      "4   2015-01-05                 23,82                     21   \n",
      "..         ...                   ...                    ...   \n",
      "360 2015-12-27                    24                   21,1   \n",
      "361 2015-12-28                 22,64                   21,1   \n",
      "362 2015-12-29                 21,68                   20,3   \n",
      "363 2015-12-30                 21,38                   19,3   \n",
      "364 2015-12-31                 24,76                   20,2   \n",
      "\n",
      "    Temperatura Maxima (C) Precipitacao (mm)  Final de Semana  \\\n",
      "0                     32,5                 0              0.0   \n",
      "1                     33,5                 0              0.0   \n",
      "2                     29,9                 0              1.0   \n",
      "3                     28,6               1,2              1.0   \n",
      "4                     28,3                 0              0.0   \n",
      "..                     ...               ...              ...   \n",
      "360                   28,2              13,6              1.0   \n",
      "361                   26,7                 0              0.0   \n",
      "362                   24,1              10,3              0.0   \n",
      "363                   22,4               6,3              0.0   \n",
      "364                     29                 0              0.0   \n",
      "\n",
      "     Consumo de cerveja (litros)        Day  \n",
      "0                         25.461   Thursday  \n",
      "1                         28.972     Friday  \n",
      "2                         30.814   Saturday  \n",
      "3                         29.799     Sunday  \n",
      "4                         28.900     Monday  \n",
      "..                           ...        ...  \n",
      "360                       32.307     Sunday  \n",
      "361                       26.095     Monday  \n",
      "362                       22.309    Tuesday  \n",
      "363                       20.467  Wednesday  \n",
      "364                       22.446   Thursday  \n",
      "\n",
      "[365 rows x 8 columns]\n"
     ]
    }
   ],
   "source": [
    "# Now apply the lambda function to extract the weekday\n",
    "df['Day'] = df['Data'].apply(lambda a: days[a.weekday()] if pd.notnull(a) else 'Invalid Date' )\n",
    "\n",
    "# Display the updated dataframe\n",
    "print(df)"
   ]
  },
  {
   "cell_type": "code",
   "execution_count": 18,
   "metadata": {},
   "outputs": [
    {
     "data": {
      "text/plain": [
       "array([25.461, 28.972, 30.814, 29.799, 28.9  , 28.218, 29.732, 28.397,\n",
       "       24.886, 37.937, 36.254, 25.743, 26.99 , 31.825, 25.724, 29.938,\n",
       "       37.69 , 30.524, 29.265, 35.127, 29.13 , 25.795, 21.784, 28.348,\n",
       "       31.088, 21.52 , 29.972, 22.603, 22.696, 26.845, 27.03 , 32.057,\n",
       "       24.097, 31.655, 24.738, 19.95 , 22.821, 28.893, 29.926, 24.062,\n",
       "       21.137, 26.805, 26.389, 24.219, 30.231, 24.968, 25.343, 17.399,\n",
       "       21.392, 22.922, 24.567, 30.943, 30.825, 25.692, 26.959, 25.366,\n",
       "       22.784, 26.241, 26.467, 27.475, 28.749, 24.146, 22.988, 30.3  ,\n",
       "       22.654, 29.09 , 24.619, 20.016, 23.042, 22.933, 22.409, 21.281,\n",
       "       28.844, 32.872, 20.903, 26.275, 20.167, 23.628, 24.213, 28.631,\n",
       "       25.855, 21.406, 21.617, 22.401, 27.989, 24.974, 29.76 , 26.116,\n",
       "       25.85 , 24.925, 21.979, 22.116, 24.867, 33.45 , 32.713, 22.356,\n",
       "       21.004, 23.362, 20.298, 24.862, 30.505, 25.07 , 22.62 , 22.001,\n",
       "       23.469, 21.735, 21.593, 33.822, 28.028, 24.304, 31.108, 19.113,\n",
       "       23.198, 24.388, 27.42 , 30.479, 21.838, 20.812, 19.761, 20.452,\n",
       "       17.939, 25.272, 28.049, 25.317, 21.826, 20.68 , 19.143, 18.146,\n",
       "       25.489, 23.537, 16.956, 19.052, 17.287, 20.3  , 20.538, 23.702,\n",
       "       28.411, 21.073, 24.215, 19.525, 20.786, 20.429, 27.25 , 31.387,\n",
       "       26.075, 22.162, 24.258, 24.683, 21.245, 25.937, 26.081, 16.228,\n",
       "       20.106, 21.055, 22.772, 25.142, 31.129, 30.498, 26.15 , 21.327,\n",
       "       22.008, 24.615, 22.375, 29.607, 32.983, 19.119, 21.029, 23.898,\n",
       "       24.534, 16.748, 23.055, 28.857, 23.022, 27.146, 17.241, 19.463,\n",
       "       21.86 , 24.227, 27.594, 24.863, 20.161, 20.824, 19.727, 14.94 ,\n",
       "       24.632, 21.294, 18.448, 21.237, 19.849, 20.74 , 25.698, 26.691,\n",
       "       33.298, 25.64 , 23.937, 28.742, 21.748, 22.032, 24.827, 32.473,\n",
       "       20.62 , 21.825, 14.343, 19.029, 21.104, 20.738, 25.233, 18.975,\n",
       "       19.64 , 22.522, 24.227, 24.726, 32.467, 31.663, 25.867, 27.724,\n",
       "       22.039, 26.127, 26.58 , 31.31 , 33.517, 23.181, 24.183, 24.594,\n",
       "       22.61 , 25.479, 29.621, 26.272, 22.541, 23.07 , 26.021, 17.655,\n",
       "       23.243, 30.177, 27.518, 23.21 , 21.092, 23.357, 17.888, 22.217,\n",
       "       31.681, 31.833, 28.441, 22.389, 20.681, 24.222, 19.345, 21.827,\n",
       "       23.566, 20.227, 17.075, 16.977, 21.525, 21.454, 21.814, 21.252,\n",
       "       20.464, 30.775, 25.343, 33.93 , 26.311, 31.836, 34.695, 29.829,\n",
       "       26.362, 32.589, 30.345, 29.411, 29.637, 32.184, 17.731, 24.114,\n",
       "       28.034, 22.664, 27.488, 24.876, 24.862, 24.679, 22.304, 30.329,\n",
       "       33.182, 23.849, 33.33 , 34.496, 26.249, 26.523, 26.793, 35.861,\n",
       "       27.387, 32.666, 22.199, 24.   , 27.871, 31.139, 23.065, 26.594,\n",
       "       27.657, 26.594, 28.084, 27.582, 24.862, 22.634, 31.649, 35.781,\n",
       "       24.429, 20.648, 22.741, 21.479, 23.134, 20.575, 24.33 , 28.61 ,\n",
       "       28.456, 27.964, 29.569, 29.267, 28.647, 26.836, 29.386, 24.609,\n",
       "       26.964, 23.614, 22.96 , 20.332, 30.392, 31.933, 21.662, 21.689,\n",
       "       25.119, 25.285, 28.979, 34.382, 30.617, 20.238, 24.529, 30.471,\n",
       "       28.405, 29.513, 32.451, 32.78 , 23.375, 27.713, 27.137, 22.933,\n",
       "       30.74 , 29.579, 29.188, 28.131, 28.617, 21.062, 24.337, 27.042,\n",
       "       32.536, 30.127, 24.834, 26.828, 26.468, 31.572, 26.308, 21.955,\n",
       "       32.307, 26.095, 22.309, 20.467, 22.446])"
      ]
     },
     "execution_count": 18,
     "metadata": {},
     "output_type": "execute_result"
    }
   ],
   "source": [
    "data = df['Consumo de cerveja (litros)'].values\n",
    "data"
   ]
  },
  {
   "cell_type": "code",
   "execution_count": 19,
   "metadata": {},
   "outputs": [],
   "source": [
    "scaler = MinMaxScaler()\n",
    "data = scaler.fit_transform(data.reshape(-1, 1))\n",
    "\n",
    "sequence_length = 5  # Adjust this as needed\n",
    "sequences = []\n",
    "targets = []\n",
    "\n",
    "for i in range(len(data) - sequence_length):\n",
    "    sequences.append(data[i:i+sequence_length])\n",
    "    targets.append(data[i+sequence_length])\n",
    "\n",
    "sequences = np.array(sequences)\n",
    "targets = np.array(targets)"
   ]
  },
  {
   "cell_type": "code",
   "execution_count": 20,
   "metadata": {},
   "outputs": [
    {
     "data": {
      "text/plain": [
       "array([[0.58807324],\n",
       "       [0.6522421 ],\n",
       "       [0.59565991],\n",
       "       [0.44685089],\n",
       "       [1.        ],\n",
       "       [0.92866831],\n",
       "       [0.48317369],\n",
       "       [0.53602611],\n",
       "       [0.74095109],\n",
       "       [0.4823684 ],\n",
       "       [0.66097313],\n",
       "       [0.98953124],\n",
       "       [0.68580995],\n",
       "       [0.63244893],\n",
       "       [0.88090192],\n",
       "       [0.62672713],\n",
       "       [0.48537764],\n",
       "       [0.31537679],\n",
       "       [0.59358311],\n",
       "       [0.70971433],\n",
       "       [0.30418751],\n",
       "       [0.66241417],\n",
       "       [0.35008901],\n",
       "       [0.35403069],\n",
       "       [0.52988048],\n",
       "       [0.53772145],\n",
       "       [0.7507841 ],\n",
       "       [0.41341019],\n",
       "       [0.73374587],\n",
       "       [0.44057811],\n",
       "       [0.23764516],\n",
       "       [0.35932864],\n",
       "       [0.61668221],\n",
       "       [0.66046452],\n",
       "       [0.41192676],\n",
       "       [0.28795456],\n",
       "       [0.52818513],\n",
       "       [0.51055353],\n",
       "       [0.418581  ],\n",
       "       [0.67339154],\n",
       "       [0.45032635],\n",
       "       [0.46622023],\n",
       "       [0.12952446],\n",
       "       [0.2987624 ],\n",
       "       [0.36360939],\n",
       "       [0.43333051],\n",
       "       [0.7035687 ],\n",
       "       [0.69856743],\n",
       "       [0.48101212],\n",
       "       [0.53471221],\n",
       "       [0.46719505],\n",
       "       [0.35776045],\n",
       "       [0.50428075],\n",
       "       [0.51385946],\n",
       "       [0.55658218],\n",
       "       [0.61057896],\n",
       "       [0.41548699],\n",
       "       [0.36640671],\n",
       "       [0.67631601],\n",
       "       [0.35225057],\n",
       "       [0.62503179],\n",
       "       [0.43553446],\n",
       "       [0.24044249],\n",
       "       [0.36869543],\n",
       "       [0.36407561],\n",
       "       [0.34186658],\n",
       "       [0.29405781],\n",
       "       [0.61460541],\n",
       "       [0.78532678],\n",
       "       [0.27803679],\n",
       "       [0.50572179],\n",
       "       [0.24684242],\n",
       "       [0.39353225],\n",
       "       [0.41832669],\n",
       "       [0.60557769],\n",
       "       [0.48792066],\n",
       "       [0.29935577],\n",
       "       [0.30829872],\n",
       "       [0.34152751],\n",
       "       [0.57836738],\n",
       "       [0.45058066],\n",
       "       [0.65342884],\n",
       "       [0.49898279],\n",
       "       [0.48770874],\n",
       "       [0.44850386],\n",
       "       [0.3236416 ],\n",
       "       [0.32944816],\n",
       "       [0.4460456 ],\n",
       "       [0.80982453],\n",
       "       [0.77858778],\n",
       "       [0.33962024],\n",
       "       [0.28231754],\n",
       "       [0.3822582 ],\n",
       "       [0.25239468],\n",
       "       [0.44583369],\n",
       "       [0.68500466],\n",
       "       [0.45464949],\n",
       "       [0.35080953],\n",
       "       [0.32457404],\n",
       "       [0.38679325],\n",
       "       [0.31329999],\n",
       "       [0.30728151],\n",
       "       [0.82559125],\n",
       "       [0.58002034],\n",
       "       [0.42218361],\n",
       "       [0.71056201],\n",
       "       [0.20217004],\n",
       "       [0.37530728],\n",
       "       [0.42574383],\n",
       "       [0.55425108],\n",
       "       [0.68390269],\n",
       "       [0.31766551],\n",
       "       [0.27417988],\n",
       "       [0.22963465],\n",
       "       [0.25892176],\n",
       "       [0.15241163],\n",
       "       [0.46321099],\n",
       "       [0.5809104 ],\n",
       "       [0.46511825],\n",
       "       [0.3171569 ],\n",
       "       [0.26858523],\n",
       "       [0.20344155],\n",
       "       [0.16118505],\n",
       "       [0.47240824],\n",
       "       [0.38967534],\n",
       "       [0.1107485 ],\n",
       "       [0.19958464],\n",
       "       [0.12477749],\n",
       "       [0.25247944],\n",
       "       [0.26256675],\n",
       "       [0.39666864],\n",
       "       [0.59625328],\n",
       "       [0.28524201],\n",
       "       [0.41841146],\n",
       "       [0.21963211],\n",
       "       [0.2730779 ],\n",
       "       [0.25794694],\n",
       "       [0.54704586],\n",
       "       [0.72238705],\n",
       "       [0.49724506],\n",
       "       [0.33139781],\n",
       "       [0.42023396],\n",
       "       [0.43824701],\n",
       "       [0.292532  ],\n",
       "       [0.49139612],\n",
       "       [0.49749936],\n",
       "       [0.07989319],\n",
       "       [0.24425701],\n",
       "       [0.2844791 ],\n",
       "       [0.35725184],\n",
       "       [0.45770111],\n",
       "       [0.71145206],\n",
       "       [0.68470798],\n",
       "       [0.50042384],\n",
       "       [0.29600746],\n",
       "       [0.32487073],\n",
       "       [0.43536492],\n",
       "       [0.34042553],\n",
       "       [0.64694414],\n",
       "       [0.79003136],\n",
       "       [0.20242435],\n",
       "       [0.28337713],\n",
       "       [0.40497584],\n",
       "       [0.43193185],\n",
       "       [0.10193269],\n",
       "       [0.36924642],\n",
       "       [0.6151564 ],\n",
       "       [0.36784776],\n",
       "       [0.54263796],\n",
       "       [0.12282784],\n",
       "       [0.21700432],\n",
       "       [0.31859795],\n",
       "       [0.41892006],\n",
       "       [0.56162584],\n",
       "       [0.44587607],\n",
       "       [0.24658812],\n",
       "       [0.27468848],\n",
       "       [0.22819361],\n",
       "       [0.02530304],\n",
       "       [0.43608545],\n",
       "       [0.2946088 ],\n",
       "       [0.17398491],\n",
       "       [0.29219293],\n",
       "       [0.23336441],\n",
       "       [0.27112825],\n",
       "       [0.48126642],\n",
       "       [0.52335339],\n",
       "       [0.80338222],\n",
       "       [0.47880817],\n",
       "       [0.4066288 ],\n",
       "       [0.61028228],\n",
       "       [0.31385098],\n",
       "       [0.32588794],\n",
       "       [0.44435026],\n",
       "       [0.7684157 ],\n",
       "       [0.26604221],\n",
       "       [0.31711452],\n",
       "       [0.        ],\n",
       "       [0.19860982],\n",
       "       [0.2865559 ],\n",
       "       [0.27104349],\n",
       "       [0.46155802],\n",
       "       [0.1963211 ],\n",
       "       [0.22450623],\n",
       "       [0.34665593],\n",
       "       [0.41892006],\n",
       "       [0.44006951],\n",
       "       [0.7681614 ],\n",
       "       [0.73408494],\n",
       "       [0.48842926],\n",
       "       [0.56713571],\n",
       "       [0.32618462],\n",
       "       [0.49944901],\n",
       "       [0.51864881],\n",
       "       [0.71912351],\n",
       "       [0.81266424],\n",
       "       [0.37458676],\n",
       "       [0.41705518],\n",
       "       [0.43447487],\n",
       "       [0.35038569],\n",
       "       [0.4719844 ],\n",
       "       [0.64753751],\n",
       "       [0.50559464],\n",
       "       [0.34746122],\n",
       "       [0.36988217],\n",
       "       [0.49495634],\n",
       "       [0.14037467],\n",
       "       [0.37721455],\n",
       "       [0.67110282],\n",
       "       [0.55840468],\n",
       "       [0.37581589],\n",
       "       [0.2860473 ],\n",
       "       [0.38204628],\n",
       "       [0.15025006],\n",
       "       [0.33372891],\n",
       "       [0.73484784],\n",
       "       [0.74129016],\n",
       "       [0.59752479],\n",
       "       [0.3410189 ],\n",
       "       [0.26862762],\n",
       "       [0.41870815],\n",
       "       [0.21200305],\n",
       "       [0.31719929],\n",
       "       [0.39090447],\n",
       "       [0.24938544],\n",
       "       [0.11579215],\n",
       "       [0.11163855],\n",
       "       [0.30439942],\n",
       "       [0.30139018],\n",
       "       [0.3166483 ],\n",
       "       [0.29282869],\n",
       "       [0.25943036],\n",
       "       [0.69644825],\n",
       "       [0.46622023],\n",
       "       [0.83016869],\n",
       "       [0.50724761],\n",
       "       [0.74141731],\n",
       "       [0.86259218],\n",
       "       [0.65635331],\n",
       "       [0.50940917],\n",
       "       [0.7733322 ],\n",
       "       [0.67822328],\n",
       "       [0.63863694],\n",
       "       [0.64821565],\n",
       "       [0.75616682],\n",
       "       [0.14359583],\n",
       "       [0.41413071],\n",
       "       [0.58027465],\n",
       "       [0.35267441],\n",
       "       [0.55713317],\n",
       "       [0.44642706],\n",
       "       [0.44583369],\n",
       "       [0.43807748],\n",
       "       [0.33741629],\n",
       "       [0.67754514],\n",
       "       [0.79846571],\n",
       "       [0.40289904],\n",
       "       [0.80473849],\n",
       "       [0.85415784],\n",
       "       [0.50461982],\n",
       "       [0.51623294],\n",
       "       [0.52767653],\n",
       "       [0.91201153],\n",
       "       [0.55285242],\n",
       "       [0.77659574],\n",
       "       [0.33296601],\n",
       "       [0.40929897],\n",
       "       [0.57336611],\n",
       "       [0.7118759 ],\n",
       "       [0.36967026],\n",
       "       [0.51924218],\n",
       "       [0.56429601],\n",
       "       [0.51924218],\n",
       "       [0.58239383],\n",
       "       [0.56111723],\n",
       "       [0.44583369],\n",
       "       [0.3514029 ],\n",
       "       [0.73349157],\n",
       "       [0.90862084],\n",
       "       [0.42748156],\n",
       "       [0.26722896],\n",
       "       [0.35593795],\n",
       "       [0.30244978],\n",
       "       [0.37259473],\n",
       "       [0.26413495],\n",
       "       [0.42328558],\n",
       "       [0.60468763],\n",
       "       [0.59816055],\n",
       "       [0.57730779],\n",
       "       [0.64533356],\n",
       "       [0.6325337 ],\n",
       "       [0.60625583],\n",
       "       [0.52949903],\n",
       "       [0.63757735],\n",
       "       [0.43511062],\n",
       "       [0.53492413],\n",
       "       [0.39293888],\n",
       "       [0.36521997],\n",
       "       [0.25383572],\n",
       "       [0.68021531],\n",
       "       [0.74552852],\n",
       "       [0.31020598],\n",
       "       [0.31135034],\n",
       "       [0.45672629],\n",
       "       [0.46376197],\n",
       "       [0.6203272 ],\n",
       "       [0.8493261 ],\n",
       "       [0.68975163],\n",
       "       [0.24985166],\n",
       "       [0.43171993],\n",
       "       [0.68356362],\n",
       "       [0.59599898],\n",
       "       [0.64296007],\n",
       "       [0.76748326],\n",
       "       [0.78142748],\n",
       "       [0.38280919],\n",
       "       [0.56666949],\n",
       "       [0.54225651],\n",
       "       [0.36407561],\n",
       "       [0.69496482],\n",
       "       [0.6457574 ],\n",
       "       [0.62918539],\n",
       "       [0.58438586],\n",
       "       [0.60498432],\n",
       "       [0.28477579],\n",
       "       [0.42358227],\n",
       "       [0.53823006],\n",
       "       [0.77108587],\n",
       "       [0.66898364],\n",
       "       [0.44464694],\n",
       "       [0.52915996],\n",
       "       [0.51390184],\n",
       "       [0.73022802],\n",
       "       [0.50712045],\n",
       "       [0.3226244 ],\n",
       "       [0.76138001],\n",
       "       [0.49809274],\n",
       "       [0.33762821],\n",
       "       [0.25955751],\n",
       "       [0.34343477]])"
      ]
     },
     "execution_count": 20,
     "metadata": {},
     "output_type": "execute_result"
    }
   ],
   "source": [
    "targets"
   ]
  },
  {
   "cell_type": "code",
   "execution_count": 21,
   "metadata": {},
   "outputs": [
    {
     "data": {
      "text/plain": [
       "<Axes: xlabel='Day', ylabel='Consumo de cerveja (litros)'>"
      ]
     },
     "execution_count": 21,
     "metadata": {},
     "output_type": "execute_result"
    },
    {
     "data": {
      "image/png": "[encoded data removed]",
      "text/plain": [
       "<Figure size 1000x500 with 1 Axes>"
      ]
     },
     "metadata": {},
     "output_type": "display_data"
    }
   ],
   "source": [
    "plt.figure(figsize=(10,5))\n",
    "sns.barplot(x=\"Day\" , y=\"Consumo de cerveja (litros)\" , data=df)"
   ]
  },
  {
   "cell_type": "code",
   "execution_count": 22,
   "metadata": {},
   "outputs": [],
   "source": [
    "X_train, X_test, y_train, y_test = train_test_split(sequences, targets, test_size=0.2, random_state=42)"
   ]
  },
  {
   "cell_type": "code",
   "execution_count": 23,
   "metadata": {},
   "outputs": [
    {
     "name": "stdout",
     "output_type": "stream",
     "text": [
      "(288, 5, 1)\n"
     ]
    }
   ],
   "source": [
    "print(X_train.shape)"
   ]
  },
  {
   "cell_type": "code",
   "execution_count": 24,
   "metadata": {},
   "outputs": [],
   "source": [
    "model_rnn = keras.Sequential(name=\"RNN\")\n",
    "model_rnn.add(keras.layers.SimpleRNN(256, activation='relu', input_shape=(X_train.shape[1], X_train.shape[2])))\n",
    "model_rnn.add(keras.layers.Dense(1))\n",
    "model_rnn.compile(optimizer='adam', loss='mean_squared_error')\n"
   ]
  },
  {
   "cell_type": "code",
   "execution_count": 25,
   "metadata": {},
   "outputs": [],
   "source": [
    "from tensorflow.keras import layers, models\n",
    "\n",
    "model_rnn = models.Sequential(name=\"RNN\")\n",
    "model_rnn.add(layers.SimpleRNN(100, activation='relu', return_sequences=True, input_shape=(X_train.shape[1], 1)))\n",
    "model_rnn.add(layers.SimpleRNN(50, activation='relu'))\n",
    "model_rnn.add(layers.Dense(64, activation='relu'))\n",
    "model_rnn.add(layers.Dropout(0.3))\n",
    "model_rnn.add(layers.Dense(32, activation='relu'))\n",
    "model_rnn.add(layers.Dense(1))\n",
    "model_rnn.compile(optimizer='RMSprop', loss='mean_squared_error')"
   ]
  },
  {
   "cell_type": "code",
   "execution_count": 26,
   "metadata": {},
   "outputs": [
    {
     "name": "stdout",
     "output_type": "stream",
     "text": [
      "Epoch 1/10\n",
      "\u001b[1m18/18\u001b[0m \u001b[32m━━━━━━━━━━━━━━━━━━━━\u001b[0m\u001b[37m\u001b[0m \u001b[1m2s\u001b[0m 3ms/step - loss: 0.0855\n",
      "Epoch 2/10\n",
      "\u001b[1m18/18\u001b[0m \u001b[32m━━━━━━━━━━━━━━━━━━━━\u001b[0m\u001b[37m\u001b[0m \u001b[1m0s\u001b[0m 3ms/step - loss: 0.0434 \n",
      "Epoch 3/10\n",
      "\u001b[1m18/18\u001b[0m \u001b[32m━━━━━━━━━━━━━━━━━━━━\u001b[0m\u001b[37m\u001b[0m \u001b[1m0s\u001b[0m 3ms/step - loss: 0.0465\n",
      "Epoch 4/10\n",
      "\u001b[1m18/18\u001b[0m \u001b[32m━━━━━━━━━━━━━━━━━━━━\u001b[0m\u001b[37m\u001b[0m \u001b[1m0s\u001b[0m 3ms/step - loss: 0.0324\n",
      "Epoch 5/10\n",
      "\u001b[1m18/18\u001b[0m \u001b[32m━━━━━━━━━━━━━━━━━━━━\u001b[0m\u001b[37m\u001b[0m \u001b[1m0s\u001b[0m 3ms/step - loss: 0.0354\n",
      "Epoch 6/10\n",
      "\u001b[1m18/18\u001b[0m \u001b[32m━━━━━━━━━━━━━━━━━━━━\u001b[0m\u001b[37m\u001b[0m \u001b[1m0s\u001b[0m 3ms/step - loss: 0.0314\n",
      "Epoch 7/10\n",
      "\u001b[1m18/18\u001b[0m \u001b[32m━━━━━━━━━━━━━━━━━━━━\u001b[0m\u001b[37m\u001b[0m \u001b[1m0s\u001b[0m 3ms/step - loss: 0.0344 \n",
      "Epoch 8/10\n",
      "\u001b[1m18/18\u001b[0m \u001b[32m━━━━━━━━━━━━━━━━━━━━\u001b[0m\u001b[37m\u001b[0m \u001b[1m0s\u001b[0m 3ms/step - loss: 0.0312\n",
      "Epoch 9/10\n",
      "\u001b[1m18/18\u001b[0m \u001b[32m━━━━━━━━━━━━━━━━━━━━\u001b[0m\u001b[37m\u001b[0m \u001b[1m0s\u001b[0m 4ms/step - loss: 0.0337\n",
      "Epoch 10/10\n",
      "\u001b[1m18/18\u001b[0m \u001b[32m━━━━━━━━━━━━━━━━━━━━\u001b[0m\u001b[37m\u001b[0m \u001b[1m0s\u001b[0m 3ms/step - loss: 0.0312 \n"
     ]
    },
    {
     "data": {
      "text/plain": [
       "<keras.src.callbacks.history.History at 0x1f42a995e50>"
      ]
     },
     "execution_count": 26,
     "metadata": {},
     "output_type": "execute_result"
    }
   ],
   "source": [
    "model_rnn.fit(X_train, y_train, epochs=10, batch_size=16, verbose=1)"
   ]
  },
  {
   "cell_type": "code",
   "execution_count": 27,
   "metadata": {},
   "outputs": [],
   "source": [
    "model_lstm = keras.Sequential(name=\"LSTM\")\n",
    "model_lstm.add(keras.layers.LSTM(100, activation='relu', input_shape=(X_train.shape[1], 1)))\n",
    "model_lstm.add(keras.layers.Dense(1))\n",
    "model_lstm.compile(optimizer='adam', loss='mean_squared_error')"
   ]
  },
  {
   "cell_type": "code",
   "execution_count": 28,
   "metadata": {},
   "outputs": [
    {
     "name": "stdout",
     "output_type": "stream",
     "text": [
      "Epoch 1/20\n",
      "\u001b[1m9/9\u001b[0m \u001b[32m━━━━━━━━━━━━━━━━━━━━\u001b[0m\u001b[37m\u001b[0m \u001b[1m1s\u001b[0m 2ms/step - loss: 0.2489\n",
      "Epoch 2/20\n",
      "\u001b[1m9/9\u001b[0m \u001b[32m━━━━━━━━━━━━━━━━━━━━\u001b[0m\u001b[37m\u001b[0m \u001b[1m0s\u001b[0m 4ms/step - loss: 0.1621 \n",
      "Epoch 3/20\n",
      "\u001b[1m9/9\u001b[0m \u001b[32m━━━━━━━━━━━━━━━━━━━━\u001b[0m\u001b[37m\u001b[0m \u001b[1m0s\u001b[0m 3ms/step - loss: 0.1013 \n",
      "Epoch 4/20\n",
      "\u001b[1m9/9\u001b[0m \u001b[32m━━━━━━━━━━━━━━━━━━━━\u001b[0m\u001b[37m\u001b[0m \u001b[1m0s\u001b[0m 4ms/step - loss: 0.0399 \n",
      "Epoch 5/20\n",
      "\u001b[1m9/9\u001b[0m \u001b[32m━━━━━━━━━━━━━━━━━━━━\u001b[0m\u001b[37m\u001b[0m \u001b[1m0s\u001b[0m 3ms/step - loss: 0.0411 \n",
      "Epoch 6/20\n",
      "\u001b[1m9/9\u001b[0m \u001b[32m━━━━━━━━━━━━━━━━━━━━\u001b[0m\u001b[37m\u001b[0m \u001b[1m0s\u001b[0m 3ms/step - loss: 0.0317 \n",
      "Epoch 7/20\n",
      "\u001b[1m9/9\u001b[0m \u001b[32m━━━━━━━━━━━━━━━━━━━━\u001b[0m\u001b[37m\u001b[0m \u001b[1m0s\u001b[0m 3ms/step - loss: 0.0317 \n",
      "Epoch 8/20\n",
      "\u001b[1m9/9\u001b[0m \u001b[32m━━━━━━━━━━━━━━━━━━━━\u001b[0m\u001b[37m\u001b[0m \u001b[1m0s\u001b[0m 3ms/step - loss: 0.0335 \n",
      "Epoch 9/20\n",
      "\u001b[1m9/9\u001b[0m \u001b[32m━━━━━━━━━━━━━━━━━━━━\u001b[0m\u001b[37m\u001b[0m \u001b[1m0s\u001b[0m 4ms/step - loss: 0.0315 \n",
      "Epoch 10/20\n",
      "\u001b[1m9/9\u001b[0m \u001b[32m━━━━━━━━━━━━━━━━━━━━\u001b[0m\u001b[37m\u001b[0m \u001b[1m0s\u001b[0m 4ms/step - loss: 0.0325 \n",
      "Epoch 11/20\n",
      "\u001b[1m9/9\u001b[0m \u001b[32m━━━━━━━━━━━━━━━━━━━━\u001b[0m\u001b[37m\u001b[0m \u001b[1m0s\u001b[0m 2ms/step - loss: 0.0310 \n",
      "Epoch 12/20\n",
      "\u001b[1m9/9\u001b[0m \u001b[32m━━━━━━━━━━━━━━━━━━━━\u001b[0m\u001b[37m\u001b[0m \u001b[1m0s\u001b[0m 3ms/step - loss: 0.0359 \n",
      "Epoch 13/20\n",
      "\u001b[1m9/9\u001b[0m \u001b[32m━━━━━━━━━━━━━━━━━━━━\u001b[0m\u001b[37m\u001b[0m \u001b[1m0s\u001b[0m 4ms/step - loss: 0.0340 \n",
      "Epoch 14/20\n",
      "\u001b[1m9/9\u001b[0m \u001b[32m━━━━━━━━━━━━━━━━━━━━\u001b[0m\u001b[37m\u001b[0m \u001b[1m0s\u001b[0m 3ms/step - loss: 0.0341 \n",
      "Epoch 15/20\n",
      "\u001b[1m9/9\u001b[0m \u001b[32m━━━━━━━━━━━━━━━━━━━━\u001b[0m\u001b[37m\u001b[0m \u001b[1m0s\u001b[0m 3ms/step - loss: 0.0320 \n",
      "Epoch 16/20\n",
      "\u001b[1m9/9\u001b[0m \u001b[32m━━━━━━━━━━━━━━━━━━━━\u001b[0m\u001b[37m\u001b[0m \u001b[1m0s\u001b[0m 3ms/step - loss: 0.0337 \n",
      "Epoch 17/20\n",
      "\u001b[1m9/9\u001b[0m \u001b[32m━━━━━━━━━━━━━━━━━━━━\u001b[0m\u001b[37m\u001b[0m \u001b[1m0s\u001b[0m 3ms/step - loss: 0.0320 \n",
      "Epoch 18/20\n",
      "\u001b[1m9/9\u001b[0m \u001b[32m━━━━━━━━━━━━━━━━━━━━\u001b[0m\u001b[37m\u001b[0m \u001b[1m0s\u001b[0m 3ms/step - loss: 0.0316 \n",
      "Epoch 19/20\n",
      "\u001b[1m9/9\u001b[0m \u001b[32m━━━━━━━━━━━━━━━━━━━━\u001b[0m\u001b[37m\u001b[0m \u001b[1m0s\u001b[0m 2ms/step - loss: 0.0330 \n",
      "Epoch 20/20\n",
      "\u001b[1m9/9\u001b[0m \u001b[32m━━━━━━━━━━━━━━━━━━━━\u001b[0m\u001b[37m\u001b[0m \u001b[1m0s\u001b[0m 3ms/step - loss: 0.0335 \n"
     ]
    },
    {
     "data": {
      "text/plain": [
       "<keras.src.callbacks.history.History at 0x1f42e684aa0>"
      ]
     },
     "execution_count": 28,
     "metadata": {},
     "output_type": "execute_result"
    }
   ],
   "source": [
    "model_lstm.fit(X_train, y_train, epochs=20, batch_size=32, verbose=1)"
   ]
  },
  {
   "cell_type": "code",
   "execution_count": 29,
   "metadata": {},
   "outputs": [],
   "source": [
    "model_gru = keras.Sequential(name=\"GRU\")\n",
    "model_gru.add(keras.layers.GRU(100, activation='tanh', input_shape=(X_train.shape[1], 1)))\n",
    "model_gru.add(keras.layers.Dense(1))\n",
    "model_gru.compile(optimizer='adam', loss='mean_squared_error')"
   ]
  },
  {
   "cell_type": "code",
   "execution_count": 30,
   "metadata": {},
   "outputs": [
    {
     "name": "stdout",
     "output_type": "stream",
     "text": [
      "Epoch 1/10\n",
      "\u001b[1m9/9\u001b[0m \u001b[32m━━━━━━━━━━━━━━━━━━━━\u001b[0m\u001b[37m\u001b[0m \u001b[1m1s\u001b[0m 4ms/step - loss: 0.1829\n",
      "Epoch 2/10\n",
      "\u001b[1m9/9\u001b[0m \u001b[32m━━━━━━━━━━━━━━━━━━━━\u001b[0m\u001b[37m\u001b[0m \u001b[1m0s\u001b[0m 3ms/step - loss: 0.0426 \n",
      "Epoch 3/10\n",
      "\u001b[1m9/9\u001b[0m \u001b[32m━━━━━━━━━━━━━━━━━━━━\u001b[0m\u001b[37m\u001b[0m \u001b[1m0s\u001b[0m 4ms/step - loss: 0.0439 \n",
      "Epoch 4/10\n",
      "\u001b[1m9/9\u001b[0m \u001b[32m━━━━━━━━━━━━━━━━━━━━\u001b[0m\u001b[37m\u001b[0m \u001b[1m0s\u001b[0m 3ms/step - loss: 0.0322 \n",
      "Epoch 5/10\n",
      "\u001b[1m9/9\u001b[0m \u001b[32m━━━━━━━━━━━━━━━━━━━━\u001b[0m\u001b[37m\u001b[0m \u001b[1m0s\u001b[0m 3ms/step - loss: 0.0358 \n",
      "Epoch 6/10\n",
      "\u001b[1m9/9\u001b[0m \u001b[32m━━━━━━━━━━━━━━━━━━━━\u001b[0m\u001b[37m\u001b[0m \u001b[1m0s\u001b[0m 4ms/step - loss: 0.0326 \n",
      "Epoch 7/10\n",
      "\u001b[1m9/9\u001b[0m \u001b[32m━━━━━━━━━━━━━━━━━━━━\u001b[0m\u001b[37m\u001b[0m \u001b[1m0s\u001b[0m 3ms/step - loss: 0.0309 \n",
      "Epoch 8/10\n",
      "\u001b[1m9/9\u001b[0m \u001b[32m━━━━━━━━━━━━━━━━━━━━\u001b[0m\u001b[37m\u001b[0m \u001b[1m0s\u001b[0m 4ms/step - loss: 0.0319 \n",
      "Epoch 9/10\n",
      "\u001b[1m9/9\u001b[0m \u001b[32m━━━━━━━━━━━━━━━━━━━━\u001b[0m\u001b[37m\u001b[0m \u001b[1m0s\u001b[0m 4ms/step - loss: 0.0313 \n",
      "Epoch 10/10\n",
      "\u001b[1m9/9\u001b[0m \u001b[32m━━━━━━━━━━━━━━━━━━━━\u001b[0m\u001b[37m\u001b[0m \u001b[1m0s\u001b[0m 3ms/step - loss: 0.0337 \n"
     ]
    },
    {
     "data": {
      "text/plain": [
       "<keras.src.callbacks.history.History at 0x1f42e623050>"
      ]
     },
     "execution_count": 30,
     "metadata": {},
     "output_type": "execute_result"
    }
   ],
   "source": [
    "model_gru.fit(X_train, y_train, epochs=10, batch_size=32, verbose=1)"
   ]
  },
  {
   "cell_type": "code",
   "execution_count": 31,
   "metadata": {},
   "outputs": [
    {
     "name": "stdout",
     "output_type": "stream",
     "text": [
      "(72, 5, 1)\n"
     ]
    }
   ],
   "source": [
    "print(X_test.shape)"
   ]
  },
  {
   "cell_type": "code",
   "execution_count": 32,
   "metadata": {},
   "outputs": [
    {
     "name": "stdout",
     "output_type": "stream",
     "text": [
      "\u001b[1m3/3\u001b[0m \u001b[32m━━━━━━━━━━━━━━━━━━━━\u001b[0m\u001b[37m\u001b[0m \u001b[1m0s\u001b[0m 133ms/step\n",
      "\u001b[1m3/3\u001b[0m \u001b[32m━━━━━━━━━━━━━━━━━━━━\u001b[0m\u001b[37m\u001b[0m \u001b[1m0s\u001b[0m 64ms/step\n",
      "WARNING:tensorflow:5 out of the last 7 calls to <function TensorFlowTrainer.make_predict_function.<locals>.one_step_on_data_distributed at 0x000001F4333DBEC0> triggered tf.function retracing. Tracing is expensive and the excessive number of tracings could be due to (1) creating @tf.function repeatedly in a loop, (2) passing tensors with different shapes, (3) passing Python objects instead of tensors. For (1), please define your @tf.function outside of the loop. For (2), @tf.function has reduce_retracing=True option that can avoid unnecessary retracing. For (3), please refer to https://www.tensorflow.org/guide/function#controlling_retracing and https://www.tensorflow.org/api_docs/python/tf/function for  more details.\n",
      "\u001b[1m1/3\u001b[0m \u001b[32m━━━━━━\u001b[0m\u001b[37m━━━━━━━━━━━━━━\u001b[0m \u001b[1m0s\u001b[0m 183ms/stepWARNING:tensorflow:6 out of the last 9 calls to <function TensorFlowTrainer.make_predict_function.<locals>.one_step_on_data_distributed at 0x000001F4333DBEC0> triggered tf.function retracing. Tracing is expensive and the excessive number of tracings could be due to (1) creating @tf.function repeatedly in a loop, (2) passing tensors with different shapes, (3) passing Python objects instead of tensors. For (1), please define your @tf.function outside of the loop. For (2), @tf.function has reduce_retracing=True option that can avoid unnecessary retracing. For (3), please refer to https://www.tensorflow.org/guide/function#controlling_retracing and https://www.tensorflow.org/api_docs/python/tf/function for  more details.\n",
      "\u001b[1m3/3\u001b[0m \u001b[32m━━━━━━━━━━━━━━━━━━━━\u001b[0m\u001b[37m\u001b[0m \u001b[1m0s\u001b[0m 67ms/step\n",
      "RNN Mean Squared Error: 15.94604988122111\n",
      "LSTM Mean Squared Error: 15.192062319183792\n",
      "GRU Mean Squared Error: 15.219756263375182\n"
     ]
    }
   ],
   "source": [
    "import numpy as np\n",
    "from sklearn.metrics import mean_squared_error\n",
    "\n",
    "def evaluate_model(model, X_test, y_test, scaler):\n",
    "    # Reshape X_test for prediction\n",
    "    X_test_reshaped = X_test.reshape(X_test.shape[0], X_test.shape[1], 1)\n",
    "    \n",
    "    # Get predictions\n",
    "    y_pred = model.predict(X_test_reshaped)\n",
    "    \n",
    "    # Check for NaN in y_pred\n",
    "    if np.isnan(y_pred).any():\n",
    "        print(\"NaN values found in predictions!\")\n",
    "    \n",
    "    # Inverse transform the predicted and actual values\n",
    "    try:\n",
    "        y_pred = scaler.inverse_transform(y_pred).flatten()\n",
    "        y_test = scaler.inverse_transform(y_test.reshape(-1, 1)).flatten()\n",
    "    except ValueError as e:\n",
    "        print(f\"Error during inverse transformation: {e}\")\n",
    "        return None\n",
    "\n",
    "    # Check for NaN in y_test and y_pred\n",
    "    if np.isnan(y_test).any() or np.isnan(y_pred).any():\n",
    "        print(\"NaN values found after inverse transform!\")\n",
    "    \n",
    "    # Remove NaN values from y_test and y_pred\n",
    "    valid_mask = ~np.isnan(y_test) & ~np.isnan(y_pred)\n",
    "    y_test_clean = y_test[valid_mask]\n",
    "    y_pred_clean = y_pred[valid_mask]\n",
    "    \n",
    "    # Ensure arrays are not empty after removing NaNs\n",
    "    if len(y_test_clean) == 0 or len(y_pred_clean) == 0:\n",
    "        print(\"Error: No valid samples left after removing NaN values.\")\n",
    "        return None\n",
    "    \n",
    "    # Calculate mean squared error on cleaned data\n",
    "    mse = mean_squared_error(y_test_clean, y_pred_clean)\n",
    "    return mse\n",
    "\n",
    "# Example usage for RNN, LSTM, and GRU models\n",
    "mse_rnn = evaluate_model(model_rnn, X_test, y_test, scaler)\n",
    "mse_lstm = evaluate_model(model_lstm, X_test, y_test, scaler)\n",
    "mse_gru = evaluate_model(model_gru, X_test, y_test, scaler)\n",
    "\n",
    "# Print results if they are not None\n",
    "if mse_rnn is not None:\n",
    "    print(f\"RNN Mean Squared Error: {mse_rnn}\")\n",
    "if mse_lstm is not None:\n",
    "    print(f\"LSTM Mean Squared Error: {mse_lstm}\")\n",
    "if mse_gru is not None:\n",
    "    print(f\"GRU Mean Squared Error: {mse_gru}\")\n"
   ]
  },
  {
   "cell_type": "code",
   "execution_count": 22,
   "metadata": {},
   "outputs": [
    {
     "name": "stdout",
     "output_type": "stream",
     "text": [
      "\u001b[1m6/6\u001b[0m \u001b[32m━━━━━━━━━━━━━━━━━━━━\u001b[0m\u001b[37m\u001b[0m \u001b[1m0s\u001b[0m 3ms/step \n",
      "\u001b[1m6/6\u001b[0m \u001b[32m━━━━━━━━━━━━━━━━━━━━\u001b[0m\u001b[37m\u001b[0m \u001b[1m0s\u001b[0m 4ms/step \n",
      "\u001b[1m6/6\u001b[0m \u001b[32m━━━━━━━━━━━━━━━━━━━━\u001b[0m\u001b[37m\u001b[0m \u001b[1m0s\u001b[0m 3ms/step \n"
     ]
    },
    {
     "data": {
      "image/png": "[encoded data removed]",
      "text/plain": [
       "<Figure size 1200x600 with 1 Axes>"
      ]
     },
     "metadata": {},
     "output_type": "display_data"
    }
   ],
   "source": [
    "y_pred_rnn = model_rnn.predict(X_test.reshape(X_test.shape[0], X_test.shape[1], 1))\n",
    "y_pred_rnn = scaler.inverse_transform(y_pred_rnn).flatten()\n",
    "\n",
    "y_pred_lstm = model_lstm.predict(X_test.reshape(X_test.shape[0], X_test.shape[1], 1))\n",
    "y_pred_lstm = scaler.inverse_transform(y_pred_lstm).flatten()\n",
    "\n",
    "y_pred_gru = model_gru.predict(X_test.reshape(X_test.shape[0], X_test.shape[1], 1))\n",
    "y_pred_gru = scaler.inverse_transform(y_pred_gru).flatten()\n",
    "\n",
    "plt.figure(figsize=(12, 6))\n",
    "plt.plot(y_test, label='Actual')\n",
    "plt.plot(y_pred_rnn, label='RNN Predicted', alpha=0.7)\n",
    "plt.plot(y_pred_lstm, label='LSTM Predicted', alpha=0.7)\n",
    "plt.plot(y_pred_gru, label='GRU Predicted', alpha=0.7)\n",
    "plt.legend()\n",
    "plt.title('Consumo de cerveja (litros)')\n",
    "plt.show()"
   ]
  },
  {
   "cell_type": "code",
   "execution_count": null,
   "metadata": {},
   "outputs": [],
   "source": []
  },
  {
   "cell_type": "code",
   "execution_count": null,
   "metadata": {},
   "outputs": [],
   "source": []
  }
 ],
 "metadata": {
  "kernelspec": {
   "display_name": "pin",
   "language": "python",
   "name": "python3"
  },
  "language_info": {
   "codemirror_mode": {
    "name": "ipython",
    "version": 3
   },
   "file_extension": ".py",
   "mimetype": "text/x-python",
   "name": "python",
   "nbconvert_exporter": "python",
   "pygments_lexer": "ipython3",
   "version": "3.12.5"
  }
 },
 "nbformat": 4,
 "nbformat_minor": 2
}
